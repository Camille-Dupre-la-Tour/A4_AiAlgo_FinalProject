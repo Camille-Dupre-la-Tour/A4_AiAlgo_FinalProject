{
  "nbformat": 4,
  "nbformat_minor": 0,
  "metadata": {
    "colab": {
      "provenance": []
    },
    "kernelspec": {
      "name": "python3",
      "display_name": "Python 3"
    },
    "language_info": {
      "name": "python"
    }
  },
  "cells": [
    {
      "cell_type": "markdown",
      "source": [
        "Camille DUPRE LA TOUR & Maha EL ALLEM DIA2"
      ],
      "metadata": {
        "id": "qzIarayMIdX0"
      }
    },
    {
      "cell_type": "code",
      "execution_count": 4,
      "metadata": {
        "id": "nkuFf7f7eCjL"
      },
      "outputs": [],
      "source": [
        "import csv"
      ]
    },
    {
      "cell_type": "code",
      "source": [
        "ROLL_LENGTH = 500"
      ],
      "metadata": {
        "id": "jpa_2RvdakGV"
      },
      "execution_count": 5,
      "outputs": []
    },
    {
      "cell_type": "code",
      "source": [
        "# Initialize the dough roll (0 = no defect, otherwise defect counts for each class)\n",
        "roll = [{'a': 0, 'b': 0, 'c': 0, 'occupied': False} for _ in range(ROLL_LENGTH)]\n",
        "\n",
        "# Load defect data from the CSV file\n",
        "def load_defects(file_path):\n",
        "    with open(file_path, mode='r') as file:\n",
        "        reader = csv.DictReader(file)\n",
        "        for row in reader:\n",
        "            position = round(float(row['x']))  # Convert 'x' to nearest integer\n",
        "            defect_class = row['class']        # Read the defect class ('a', 'b', 'c')\n",
        "\n",
        "            if 0 <= position < ROLL_LENGTH:  # Ensure position is within bounds\n",
        "                roll[position][defect_class] += 1\n",
        "\n",
        "# Call the function to load the defects\n",
        "load_defects('defects.csv')\n",
        "\n",
        "# Represent biscuits with their properties\n",
        "biscuits = [\n",
        "    {'type': 0, 'size': 4, 'value': 3, 'tolerances': {'a': 4, 'b': 2, 'c': 3}},\n",
        "    {'type': 1, 'size': 8, 'value': 12, 'tolerances': {'a': 5, 'b': 4, 'c': 4}},\n",
        "    {'type': 2, 'size': 2, 'value': 1, 'tolerances': {'a': 1, 'b': 2, 'c': 1}},\n",
        "    {'type': 3, 'size': 5, 'value': 8, 'tolerances': {'a': 2, 'b': 3, 'c': 2}}\n",
        "]\n"
      ],
      "metadata": {
        "id": "vAvuDjMBdd-e"
      },
      "execution_count": 6,
      "outputs": []
    },
    {
      "cell_type": "markdown",
      "source": [
        "This code initializes a simulation for placing biscuits on a roll of dough while considering defect data loaded from a CSV file.\n",
        "\n",
        "1. **Roll Initialization:**  \n",
        "   A list named `roll` is created to represent the dough, consisting of 500 segments (`ROLL_LENGTH`). Each segment is initialized with zero defects for three defect types (`a`, `b`, `c`) and marked as unoccupied (`occupied = False`).\n",
        "\n",
        "2. **Defect Loading:**  \n",
        "   The `load_defects` function reads defect data from a CSV file (`defects.csv`). Each row contains the position (`x`) and defect class (`a`, `b`, or `c`). The position is rounded to the nearest integer to align with the roll segments. If the position falls within valid bounds (0 to 499), the corresponding defect count for that segment is incremented.\n",
        "\n",
        "3. **Biscuits Representation:**  \n",
        "   The `biscuits` list defines four types of biscuits, each described by:  \n",
        "   - `type`: Identifier for the biscuit type.  \n",
        "   - `size`: Number of segments the biscuit occupies on the roll.  \n",
        "   - `value`: A score representing the biscuit's importance or utility.  \n",
        "   - `tolerances`: Maximum acceptable defect counts for each defect type (`a`, `b`, `c`).\n",
        "\n",
        "This setup provides the foundation for simulating biscuit placement on the dough roll, balancing defect constraints and biscuit properties."
      ],
      "metadata": {
        "id": "BWiEUIgD5dB2"
      }
    },
    {
      "cell_type": "code",
      "source": [
        "def can_place_biscuit(position, biscuit, roll):\n",
        "    \"\"\"\n",
        "    Checks if a biscuit can be placed at the given position on the roll,\n",
        "    considering both the occupation of positions and the defect tolerance of the biscuit.\n",
        "\n",
        "    Parameters:\n",
        "    position (int): The starting position where the biscuit will be placed.\n",
        "    biscuit (dict): The biscuit to be placed, containing its size, defect tolerance, and defect information.\n",
        "    roll (list): The dough roll with defect counts and 'occupied' flags.\n",
        "\n",
        "    Returns:\n",
        "    bool: True if the biscuit can be placed, False otherwise.\n",
        "    \"\"\"\n",
        "    total_defects = {'a': 0, 'b': 0, 'c': 0}  # Track total defects within the area\n",
        "    for i in range(biscuit['size']):\n",
        "        occupied_position = position + i\n",
        "\n",
        "        # Check if the position is within bounds and not already occupied\n",
        "        if  occupied_position >= ROLL_LENGTH or roll[occupied_position]['occupied']:\n",
        "            return False  # Position is either out of bounds or already occupied\n",
        "\n",
        "        # Add defects at the current position to total defects\n",
        "        total_defects['a'] += roll[occupied_position]['a']\n",
        "        total_defects['b'] += roll[occupied_position]['b']\n",
        "        total_defects['c'] += roll[occupied_position]['c']\n",
        "\n",
        "    # Check if the total defects exceed the biscuit's tolerance\n",
        "    for defect_type in ['a', 'b', 'c']:\n",
        "        if total_defects[defect_type] > biscuit['tolerances'][defect_type]:\n",
        "            return False  # Defects exceed tolerance for this type of defect\n",
        "\n",
        "    return True  # All checks passed, biscuit can be placed\n",
        "\n",
        "\n"
      ],
      "metadata": {
        "id": "Zf13Ub6Ye7Sm"
      },
      "execution_count": 7,
      "outputs": []
    },
    {
      "cell_type": "markdown",
      "source": [
        "The placement function ensures that biscuits are placed validly on the dough roll. It checks that the target position is unoccupied and verifies the defect constraints for the specified biscuit. This ensures no overlapping and compliance with defect tolerances.\n",
        "\n",
        "If the biscuit can be placed (as determined by the `can_place_biscuit` function), then the following function will handle the placement of the biscuit on the dough roll and update the defect counts accordingly."
      ],
      "metadata": {
        "id": "qk5pkEKfe-r3"
      }
    },
    {
      "cell_type": "code",
      "source": [
        "def place_biscuit(start_position, biscuit, roll):\n",
        "    \"\"\"\n",
        "    Places a biscuit on the dough roll at the given starting position,\n",
        "\n",
        "    Parameters:\n",
        "    start_position (int): The starting position where the biscuit will be placed.\n",
        "    biscuit (dict): The biscuit to be placed, containing its size, defect counts, and defect tolerance.\n",
        "    roll (list): The dough roll with defect counts and 'occupied' flags.\n",
        "    \"\"\"\n",
        "    # Mark the positions as occupied and update defect counts\n",
        "    for i in range(biscuit['size']):\n",
        "        position = start_position + i\n",
        "\n",
        "        # Mark the position as occupied\n",
        "        roll[position]['occupied'] = True"
      ],
      "metadata": {
        "id": "_NUpf6m9hBrv"
      },
      "execution_count": 8,
      "outputs": []
    },
    {
      "cell_type": "code",
      "source": [
        "def calculate_unused_penalty(roll):\n",
        "    \"\"\"\n",
        "    Calculates the penalty for unused dough on the roll.\n",
        "\n",
        "    Parameters:\n",
        "    roll (list of dict): The dough roll with defect counts.\n",
        "\n",
        "    Returns:\n",
        "    int: Total penalty for unused dough.\n",
        "    \"\"\"\n",
        "    covered = set()\n",
        "\n",
        "    # Mark positions covered by biscuits (positions with defect counts greater than 0)\n",
        "    for i, position in enumerate(roll):\n",
        "        if any(count > 0 for count in position.values()):  # If any defect count is > 0, position is covered\n",
        "            covered.add(i)\n",
        "\n",
        "    # Uncovered positions are those not in covered\n",
        "    unused_count = len([i for i in range(len(roll)) if i not in covered])\n",
        "\n",
        "    # Penalty is -1 per unused unit\n",
        "    return -unused_count\n"
      ],
      "metadata": {
        "id": "59pOByG7fQca"
      },
      "execution_count": 9,
      "outputs": []
    },
    {
      "cell_type": "markdown",
      "source": [
        "This function calculates the penalty for unused dough on the roll. It identifies positions that are not covered by biscuits (positions with no defect counts) and calculates the penalty based on the number of uncovered positions. Each unused position contributes a penalty of -1. The roll is checked to see which positions have biscuits placed, based on the presence of defects, and the unused penalty is then calculated accordingly."
      ],
      "metadata": {
        "id": "ZiZZ-Rd_fS2C"
      }
    },
    {
      "cell_type": "code",
      "source": [
        "def greedy_biscuit_placement(roll, biscuits):\n",
        "    # Initialize counters for each type of biscuit\n",
        "    biscuit_counts = {0: 0, 1: 0, 2: 0, 3: 0}  # Counter for each biscuit type\n",
        "    total_value = 0  # Total value of placed biscuits\n",
        "\n",
        "    # Sort biscuits by value-to-size ratio (greedy heuristic)\n",
        "    biscuits = sorted(biscuits, key=lambda biscuit: biscuit['value'] / biscuit['size'], reverse=True)\n",
        "\n",
        "    # Iterate through each biscuit starting with the one with the highest value/size ratio\n",
        "    for biscuit in biscuits:\n",
        "        # Try placing the biscuit in all positions on the roll\n",
        "        for start_position in range(ROLL_LENGTH):\n",
        "            while can_place_biscuit(start_position, biscuit, roll):\n",
        "                # Place the biscuit\n",
        "                place_biscuit(start_position, biscuit, roll)\n",
        "                biscuit_counts[biscuit['type']] += 1  # Increment the count for this type of biscuit\n",
        "                total_value += biscuit['value']  # Add the value of the placed biscuit\n",
        "                break  # Once the biscuit is placed, move on to the next one\n",
        "\n",
        "    # Calculate the penalty for unused dough (if any)\n",
        "    total_penalty = calculate_unused_penalty(roll)\n",
        "\n",
        "    # Return the total value (including penalty) and the count of each type of biscuit placed\n",
        "    return total_value, total_value + total_penalty, biscuit_counts\n"
      ],
      "metadata": {
        "id": "cF5z1DUfgrrv"
      },
      "execution_count": 10,
      "outputs": []
    },
    {
      "cell_type": "markdown",
      "source": [
        "This function implements a greedy strategy for placing biscuits on the roll. Biscuits are sorted by their value-to-size ratio to prioritize high-value placements. It iterates over all positions on the roll, placing biscuits where possible based on defect tolerances. The total value of placed biscuits and their counts are tracked, with a penalty applied for unused dough.\n"
      ],
      "metadata": {
        "id": "P4t-Co0e51KE"
      }
    },
    {
      "cell_type": "code",
      "source": [
        "# Initialize the dough roll (0 = no defect, otherwise defect counts for each class)\n",
        "roll = [{'a': 0, 'b': 0, 'c': 0, 'occupied': False} for _ in range(ROLL_LENGTH)]\n",
        "\n",
        "# Load defect data from the CSV file\n",
        "def load_defects(file_path):\n",
        "    with open(file_path, mode='r') as file:\n",
        "        reader = csv.DictReader(file)\n",
        "        for row in reader:\n",
        "            position = round(float(row['x']))  # Convert 'x' to nearest integer\n",
        "            defect_class = row['class']        # Read the defect class ('a', 'b', 'c')\n",
        "\n",
        "            if 0 <= position < ROLL_LENGTH:  # Ensure position is within bounds\n",
        "                roll[position][defect_class] += 1\n",
        "\n",
        "# Call the function to load the defects\n",
        "load_defects('defects.csv')\n",
        "\n",
        "value, net_value, biscuit_counts = greedy_biscuit_placement(roll, biscuits)\n",
        "\n",
        "print(f\"Value: {value}\")\n",
        "print(f\"Net value: {net_value}\")\n",
        "print(f\"Biscuit counts: {biscuit_counts}\")\n"
      ],
      "metadata": {
        "colab": {
          "base_uri": "https://localhost:8080/"
        },
        "id": "4N9QS0F6hifV",
        "outputId": "a7da6224-a877-4a1f-b5d6-295272541159"
      },
      "execution_count": 11,
      "outputs": [
        {
          "output_type": "stream",
          "name": "stdout",
          "text": [
            "Value: 644\n",
            "Net value: 639\n",
            "Biscuit counts: {0: 13, 1: 2, 2: 13, 3: 71}\n"
          ]
        }
      ]
    },
    {
      "cell_type": "markdown",
      "source": [
        "\n",
        "\n",
        "---\n",
        "\n",
        "\n",
        "\n",
        "\n",
        "\n",
        "\n",
        "**Genetic Algorithm**"
      ],
      "metadata": {
        "id": "SEElTSxU7cvy"
      }
    },
    {
      "cell_type": "markdown",
      "source": [
        "The greedy model focuses on local optimization by placing biscuits based on their value-to-size ratio. While effective for quick solutions, it struggles with global optimization, often leaving unused spaces or missing better overall arrangements in rolls with complex defect patterns.\n",
        "\n",
        "\n",
        "The genetic algorithm addresses the limitations of the greedy approach by using an evolutionary process:  \n",
        "\n",
        "1. **Population Initialization**: A diverse set of initial solutions is generated to provide a wide range of starting points.  \n",
        "2. **Selection**: High-performing solutions are chosen based on fitness, ensuring the best candidates influence future generations.  \n",
        "3. **Crossover**: Solutions are combined to create new ones, mixing traits from parent solutions to explore potential improvements.  \n",
        "4. **Mutation**: Random changes introduce diversity, preventing the algorithm from getting stuck in local optima.  \n",
        "5. **Iteration**: Over multiple generations, the algorithm balances exploration and exploitation, refining solutions to approach the global optimum.  \n",
        "\n",
        "This structured process enables the genetic algorithm to handle complex defect patterns and constraints, often outperforming simpler methods like the greedy approach."
      ],
      "metadata": {
        "id": "C5H2KFSU6p27"
      }
    },
    {
      "cell_type": "code",
      "source": [
        "import random\n",
        "import csv\n",
        "import copy\n",
        "\n",
        "# Initialize the dough roll (0 = no defect, otherwise defect counts for each class)\n",
        "roll_template = [{'a': 0, 'b': 0, 'c': 0, 'occupied': False} for _ in range(ROLL_LENGTH)]"
      ],
      "metadata": {
        "id": "bmWDk0rm7VqY"
      },
      "execution_count": 12,
      "outputs": []
    },
    {
      "cell_type": "markdown",
      "source": [
        "To apply this new algorithm, the dough roll is reset to ensure a clean slate for accurate optimization.\n",
        "\n",
        "\n",
        "\n",
        "\n",
        "\n",
        "\n"
      ],
      "metadata": {
        "id": "OXs0mGor8kq8"
      }
    },
    {
      "cell_type": "code",
      "source": [
        "# Function to generate a random placement of biscuits\n",
        "def generate_random_solution(biscuits, roll):\n",
        "    solution = []\n",
        "    current_position = 0\n",
        "    while current_position < ROLL_LENGTH:\n",
        "        if not roll[current_position]['occupied']:\n",
        "            biscuit = random.choice(biscuits)\n",
        "            if can_place_biscuit(current_position, biscuit, roll):\n",
        "                solution.append((current_position, biscuit['type']))\n",
        "                for i in range(biscuit['size']):\n",
        "                    roll[current_position + i]['occupied'] = True\n",
        "                current_position += biscuit['size']\n",
        "            else:\n",
        "                current_position += 1\n",
        "        else:\n",
        "            current_position += 1\n",
        "    return solution, roll  # Return solution and its associated roll"
      ],
      "metadata": {
        "id": "sP65um2U8APV"
      },
      "execution_count": 13,
      "outputs": []
    },
    {
      "cell_type": "markdown",
      "source": [
        "This function generates a random biscuit placement on the dough roll:  \n",
        "\n",
        "- It iterates through the roll and randomly selects biscuits to place, checking if they fit without violating constraints.  \n",
        "- Once a biscuit is placed, the corresponding positions are marked as occupied, and the process moves forward.  \n",
        "- The function returns the generated solution and the updated roll.  \n",
        "\n",
        "This approach provides a baseline for initializing solutions in optimization algorithms."
      ],
      "metadata": {
        "id": "ZpLXwM5F8psX"
      }
    },
    {
      "cell_type": "code",
      "source": [
        "# Function to calculate fitness\n",
        "def fitness(individual, roll_template, biscuits):\n",
        "    roll = copy.deepcopy(roll_template)\n",
        "    total_value = 0\n",
        "    for position, biscuit_type in individual:\n",
        "        biscuit = biscuits[biscuit_type]\n",
        "        total_value += biscuit['value']\n",
        "        for i in range(biscuit['size']):\n",
        "            roll[position + i]['occupied'] = True\n",
        "    return total_value  # Modify this based on penalty logic"
      ],
      "metadata": {
        "id": "Yaw7lB4z8CaC"
      },
      "execution_count": 14,
      "outputs": []
    },
    {
      "cell_type": "markdown",
      "source": [
        "The **fitness function** evaluates the quality of a solution by:  \n",
        "\n",
        "- Creating a copy of the initial roll to simulate biscuit placement.  \n",
        "- Calculating the total value of biscuits placed according to the solution.  \n",
        "- Marking the occupied positions on the roll.  \n",
        "\n",
        "The returned fitness score reflects the solution's effectiveness, which can be extended to include penalties for defects or unused spaces."
      ],
      "metadata": {
        "id": "4CbW2pXH844e"
      }
    },
    {
      "cell_type": "code",
      "source": [
        "# Crossover function\n",
        "def crossover(parent1, parent2, biscuits, roll_template):\n",
        "    if random.random() < 0.5:\n",
        "        parent1, parent2 = parent2, parent1  # Random inversion of parents\n",
        "    start_positions1 = {pos for pos, _ in parent1[0]}\n",
        "    start_positions2 = {pos for pos, _ in parent2[0]}\n",
        "    common_positions = list(start_positions1.intersection(start_positions2))\n",
        "    if not common_positions:\n",
        "        return copy.deepcopy(parent1) if fitness(parent1[0], roll_template, biscuits) > fitness(parent2[0], roll_template, biscuits) else copy.deepcopy(parent2)\n",
        "    crossover_point = random.choice(common_positions)\n",
        "    child_individual = [gene for gene in parent1[0] if gene[0] < crossover_point] + [gene for gene in parent2[0] if gene[0] >= crossover_point]\n",
        "    child_roll = copy.deepcopy(roll_template)\n",
        "    for position in range(len(child_roll)):\n",
        "        child_roll[position]['occupied'] = False\n",
        "    for position, biscuit_type in child_individual:\n",
        "        biscuit = biscuits[biscuit_type]\n",
        "        for i in range(biscuit['size']):\n",
        "            child_roll[position + i]['occupied'] = True\n",
        "    return (child_individual, child_roll)\n"
      ],
      "metadata": {
        "id": "qk1HiZ7H8HtB"
      },
      "execution_count": 15,
      "outputs": []
    },
    {
      "cell_type": "markdown",
      "source": [
        "The **crossover function** combines two parent solutions to create a child solution:\n",
        "\n",
        "- A random selection determines which parent is used as the base.\n",
        "- It identifies common starting positions between both parents' biscuit placements.\n",
        "- If there are no common positions, the function returns the better of the two parents based on fitness.\n",
        "- If common positions exist, the function performs a crossover by combining the biscuits placed before and after a randomly chosen common position.\n",
        "- The child’s roll is then updated based on this new arrangement of biscuits.\n",
        "\n",
        "This approach maintains the diversity of the population while attempting to improve the overall solution."
      ],
      "metadata": {
        "id": "K-e0mL2g9EHt"
      }
    },
    {
      "cell_type": "code",
      "source": [
        "# Mutation function\n",
        "def mutate(individual, biscuits, roll_template):\n",
        "    individual.sort(key=lambda x: x[0])\n",
        "    roll = copy.deepcopy(roll_template)\n",
        "    num_mutations = random.randint(5, 100)\n",
        "    mutation_indices = random.sample(range(len(individual)), min(num_mutations, len(individual)))\n",
        "    for i in mutation_indices:\n",
        "        position, biscuit_type = individual[i]\n",
        "        biscuit_size = biscuits[biscuit_type]['size']\n",
        "        for j in range(biscuit_size):\n",
        "            roll[position + j]['occupied'] = False\n",
        "    individual = [b for i, b in enumerate(individual) if i not in mutation_indices]\n",
        "    current_position = 0\n",
        "    while current_position < ROLL_LENGTH:\n",
        "        if not roll[current_position]['occupied']:\n",
        "            biscuit = random.choice(biscuits)\n",
        "            if can_place_biscuit(current_position, biscuit, roll):\n",
        "                individual.append((current_position, biscuit['type']))\n",
        "                for i in range(biscuit['size']):\n",
        "                    roll[current_position + i]['occupied'] = True\n",
        "                current_position += biscuit['size']\n",
        "            else:\n",
        "                current_position += 1\n",
        "        else:\n",
        "            current_position += 1\n",
        "    individual.sort(key=lambda x: x[0])\n",
        "    return individual, roll\n"
      ],
      "metadata": {
        "id": "_3U28Dly8Lb8"
      },
      "execution_count": 16,
      "outputs": []
    },
    {
      "cell_type": "markdown",
      "source": [
        "The mutation function randomly alters the current biscuit placement by performing the following steps:\n",
        "\n",
        "1. **Sorting**: The individual (which represents a solution) is sorted based on the position of biscuits to ensure proper order.\n",
        "2. **Mutation Selection**: A random number of mutations is determined (between 5 and 100). Random indices are chosen within the individual, and the corresponding biscuits are removed from the roll.\n",
        "3. **Clearing Occupied Positions**: For each mutated biscuit, the positions it occupies are cleared (set to `False`).\n",
        "4. **Reinsertion of Biscuits**: The function then attempts to place new biscuits into the cleared positions, following the same placement strategy used earlier in the genetic algorithm.\n",
        "5. **Sorting Again**: Finally, the individual is re-sorted to maintain the correct position order.\n",
        "\n",
        "This mutation step introduces diversity by modifying the arrangement of biscuits in the roll, which can help explore different possible solutions in the search space."
      ],
      "metadata": {
        "id": "CmHfWn1R9IGE"
      }
    },
    {
      "cell_type": "code",
      "source": [
        "# Function to create the next generation\n",
        "def create_new_generation(population, roll_template, biscuits):\n",
        "    sorted_population = sorted(population, key=lambda ind: fitness(ind[0], roll_template, biscuits), reverse=True)\n",
        "    top_10 = sorted_population[:10]\n",
        "    new_population = []\n",
        "    while len(new_population) < len(population):\n",
        "        parent1 = random.choice(top_10)\n",
        "        parent2 = random.choice(population)\n",
        "        child, roll_child = crossover(parent1, parent2, biscuits, copy.deepcopy(roll_template))\n",
        "        child, roll_child = mutate(child, biscuits, roll_child)\n",
        "        new_population.append((child, roll_child))\n",
        "        if len(new_population) < len(population):\n",
        "            new_population.append(parent1)\n",
        "    return new_population[:len(population)]"
      ],
      "metadata": {
        "id": "dGxB97Iz8P1S"
      },
      "execution_count": 17,
      "outputs": []
    },
    {
      "cell_type": "markdown",
      "source": [
        "The function `create_new_generation` generates the next set of individuals (or solutions) in the genetic algorithm process. Here's a breakdown of how it works:\n",
        "\n",
        "1. **Sort Population**: The current population is sorted by fitness, with the highest fitness individuals (those with the best solutions) placed at the front.\n",
        "2. **Select Top 10**: The top 10 individuals from the population are selected based on their fitness. These individuals have the highest chance of contributing to the next generation.\n",
        "3. **Create New Population**: The function enters a loop, generating new individuals until the new population reaches the size of the original population:\n",
        "   - **Parent Selection**: Two parents are selected: one from the top 10 (elitism) and one randomly from the entire population.\n",
        "   - **Crossover**: The parents are used to produce a child (new solution) through crossover.\n",
        "   - **Mutation**: The child undergoes mutation to introduce diversity.\n",
        "   - **Add to Population**: The new child is added to the new population. If there is room, a parent is also added to maintain the population size.\n",
        "4. **Return New Generation**: The new population is returned, ensuring its size is equal to the original population size.\n",
        "\n",
        "This process promotes the evolution of better solutions over generations by combining the best individuals and introducing mutations for exploration.\n",
        "\n",
        "\n",
        "\n",
        "---\n",
        "\n",
        "\n",
        "\n",
        "Here is the final approach for the genetic algorithm applied to the biscuit placement problem. This implementation evolves a population of solutions across multiple generations, aiming to maximize the total value of biscuits placed on the roll.\n",
        "\n",
        "### Overview of the Process:\n",
        "1. **Population Initialization**: A randomly generated population of possible solutions is created at the start. Each solution represents a specific arrangement of biscuits on the dough roll.\n",
        "2. **Selection of Parents**: In each generation, the top 10 solutions are selected based on their fitness (the total value of biscuits placed). These solutions act as parents for the next generation.\n",
        "3. **Crossover and Mutation**: New solutions are created by combining two parents (crossover) and making slight random changes (mutation) to introduce diversity into the population.\n",
        "4. **Fitness Evaluation**: The fitness of each solution is evaluated based on the total value of biscuits placed, with higher values indicating better solutions.\n",
        "5. **Result Monitoring**: At regular intervals (every 10 generations), the fitness of the best solution is displayed, allowing you to monitor how the solution evolves over time.\n",
        "6. **Final Output**: After running for a predefined number of generations, the best solution and its corresponding fitness score are returned.\n",
        "\n",
        "### Key Features:\n",
        "- **Periodic Results Display**: During the evolution process, you can observe the progress by printing the best fitness values at regular intervals (e.g., every 10 generations). This allows you to track how the solution is improving as the generations advance.\n",
        "- **Optimization Strategy**: The genetic algorithm seeks to refine the placement of biscuits on the roll, exploring different configurations through crossover and mutation to achieve an optimal or near-optimal solution.\n",
        "\n",
        "By following this approach, the algorithm efficiently optimizes the placement of biscuits, balancing exploration and exploitation to find the most valuable arrangement while reducing the impact of defects on the dough roll."
      ],
      "metadata": {
        "id": "EfAel-upD9E1"
      }
    },
    {
      "cell_type": "code",
      "source": [
        "# Function to run the genetic algorithm\n",
        "def genetic_algorithm(pop_size, biscuits, roll_template, generations):\n",
        "    population = [generate_random_solution(biscuits, copy.deepcopy(roll_template)) for _ in range(pop_size)]\n",
        "    print(f\"Generation | Best Fitness: \")\n",
        "    for generation in range(generations):\n",
        "        population = create_new_generation(population, copy.deepcopy(roll_template), biscuits)\n",
        "        if (generation < 100 and generation % 10 == 0) or (generation >= 100 and generation % 100 == 0):\n",
        "            best_individual = max(population, key=lambda ind: fitness(ind[0], roll_template, biscuits))\n",
        "            def get_spacing(value):\n",
        "                if value < 10:\n",
        "                      return \"   \"  # Add two spaces for numbers less than 100\n",
        "                if value < 100:\n",
        "                    return \"  \"  # Add two spaces for numbers less than 100\n",
        "                elif value < 1000:\n",
        "                    return \" \"  # Add one space for numbers less than 1000\n",
        "                return \"\"  # No space for numbers greater than or equal to 1000\n",
        "            spacing = get_spacing(generation)\n",
        "            print(f\"      {spacing}{generation} | {fitness(best_individual[0], roll_template, biscuits)}\")\n",
        "    best_solution = max(population, key=lambda ind: fitness(ind[0], roll_template, biscuits))\n",
        "    return best_solution[0], fitness(best_solution[0], roll_template, biscuits)\n",
        "\n",
        "# Example usage\n",
        "best_solution, best_fitness = genetic_algorithm(pop_size=100, biscuits=biscuits, roll_template=roll_template, generations=1000)\n",
        "print(f\"Best solution: {best_solution}\\n, Fitness: {best_fitness}\")\n",
        "\n",
        "\n",
        "#Best solution found : [(0, 1), (8, 0), (12, 1), (20, 3), (25, 3), (30, 1), (38, 1), (47, 3), (52, 3), (58, 2), (60, 3), (65, 1), (73, 3), (78, 1), (86, 1), (96, 3), (101, 3), (106, 3), (111, 1), (119, 1), (127, 3), (132, 2), (134, 3), (139, 3), (145, 3), (150, 3), (157, 3), (162, 1), (172, 1), (180, 1), (188, 3), (193, 0), (197, 3), (202, 3), (207, 3), (212, 3), (217, 3), (222, 1), (231, 3), (236, 3), (241, 1), (249, 1), (257, 3), (264, 2), (270, 1), (278, 1), (287, 3), (292, 2), (294, 3), (299, 3), (305, 3), (311, 2), (313, 1), (321, 3), (326, 2), (329, 3), (334, 3), (340, 2), (342, 3), (347, 3), (352, 3), (357, 3), (362, 3), (367, 2), (369, 1), (377, 2), (379, 3), (384, 1), (392, 2), (394, 1), (402, 3), (407, 3), (413, 3), (418, 2), (420, 3), (425, 3), (430, 0), (434, 1), (442, 2), (444, 3), (449, 3), (454, 3), (459, 3), (464, 1), (472, 3), (477, 3), (482, 3), (489, 3), (494, 3)],\n",
        "#Fitness: 730\n",
        "#Found with 2000 generation\n"
      ],
      "metadata": {
        "colab": {
          "base_uri": "https://localhost:8080/"
        },
        "id": "ABOsHo1gVnfo",
        "outputId": "bb4766fe-0bb1-42f0-902b-ea73f8bd6449"
      },
      "execution_count": 18,
      "outputs": [
        {
          "output_type": "stream",
          "name": "stdout",
          "text": [
            "Generation | Best Fitness: \n",
            "         0 | 669\n",
            "        10 | 680\n",
            "        20 | 680\n",
            "        30 | 680\n",
            "        40 | 696\n",
            "        50 | 696\n",
            "        60 | 696\n",
            "        70 | 696\n",
            "        80 | 696\n",
            "        90 | 696\n",
            "       100 | 696\n",
            "       200 | 700\n",
            "       300 | 700\n",
            "       400 | 700\n",
            "       500 | 700\n",
            "       600 | 701\n",
            "       700 | 701\n",
            "       800 | 701\n",
            "       900 | 701\n",
            "Best solution: [(0, 2), (2, 1), (10, 1), (18, 3), (23, 3), (28, 2), (30, 1), (38, 1), (46, 1), (54, 3), (59, 2), (61, 1), (69, 1), (77, 1), (85, 3), (90, 0), (94, 2), (96, 3), (101, 2), (103, 2), (105, 3), (110, 1), (118, 1), (126, 3), (131, 1), (139, 2), (141, 0), (145, 1), (153, 3), (158, 1), (166, 3), (171, 2), (173, 3), (178, 1), (186, 3), (191, 3), (196, 3), (201, 1), (209, 3), (214, 3), (219, 3), (224, 1), (232, 1), (240, 1), (248, 1), (256, 1), (265, 1), (273, 1), (281, 1), (289, 1), (297, 2), (299, 2), (301, 3), (306, 3), (311, 0), (315, 3), (320, 0), (324, 2), (326, 1), (334, 1), (342, 3), (347, 2), (350, 3), (355, 2), (357, 1), (365, 3), (370, 0), (374, 3), (379, 1), (387, 1), (395, 3), (400, 2), (402, 2), (404, 1), (412, 2), (414, 2), (416, 1), (424, 1), (432, 1), (440, 1), (448, 1), (456, 2), (458, 3), (463, 3), (468, 3), (473, 2), (475, 2), (477, 1), (485, 3), (490, 2), (492, 2), (495, 3)]\n",
            ", Fitness: 701\n"
          ]
        }
      ]
    },
    {
      "cell_type": "markdown",
      "source": [
        "**Results and Performance Analysis**  \n",
        "\n",
        "The solution performed well in generating viable outcomes for the optimization problem, demonstrating efficiency in terms of convergence rate and solution quality. Execution time was within acceptable limits, but further improvements could optimize performance and enhance the robustness of the solution.  \n",
        "\n",
        "### Metrics:  \n",
        "- **Execution Time**: Measured across multiple runs, the algorithm consistently completed within a reasonable timeframe, even with increasing problem complexity.  \n",
        "- **Solution Quality**: The algorithm successfully avoided most local optima by employing genetic operations like crossover and mutation. The results showed improvement in overall fitness across generations.  \n",
        "\n",
        "### Strengths:  \n",
        "1. **Effective Exploration and Exploitation**:  \n",
        "   The current design leverages genetic diversity and fitness-based selection, ensuring the algorithm explores the solution space effectively.  \n",
        "\n",
        "2. **Simplicity and Scalability**:  \n",
        "   The implementation is straightforward and can handle larger datasets or problems with minimal modifications.  \n",
        "\n",
        "### Suggestions for Improvement:  \n",
        "1. **Enhanced Mutation and Crossover Randomization**:  \n",
        "   The current approach fills offspring genes sequentially (left-to-right). Introducing randomness, such as starting at a random position and filling in different directions (clockwise or counterclockwise), can increase genetic diversity.  \n",
        "   - **Crossover**: Instead of fixed split points, using randomized crossover points and dynamic direction selection for gene filling can lead to more diverse offspring.  \n",
        "   - **Mutation**: Randomizing mutation operations further, by altering genes at different rates or using a non-linear mutation strategy, could enhance performance.  \n",
        "\n",
        "2. **Selection Mechanism**:  \n",
        "   The selection process could incorporate probabilistic elitism or diversity-based selection, where individuals are chosen based on fitness and their uniqueness in the population. This would reduce the risk of premature convergence and maintain variety in the gene pool.  \n",
        "\n",
        "3. **Diversity-Preservation Techniques**:  \n",
        "   Implementing mechanisms to measure and preserve population diversity, such as penalizing similar solutions, would further strengthen the algorithm’s exploratory capabilities.  \n",
        "\n",
        "---\n",
        "\n",
        "**Final Reflections**  \n",
        "\n",
        "The project was a valuable learning experience, blending theoretical concepts with practical implementation. Some key takeaways include:  \n",
        "1. **Challenges Encountered**:  \n",
        "   - Balancing exploration and exploitation was critical. Initial versions of the algorithm lacked sufficient diversity, leading to suboptimal solutions. This issue highlighted the importance of fine-tuning genetic operations like mutation and crossover.  \n",
        "   - Execution time, while acceptable, showed room for optimization, particularly with larger datasets.  \n",
        "\n",
        "2. **What Could Be Done Differently**:  \n",
        "   - A stronger emphasis on randomization in genetic operations from the beginning would have improved early results. This would have mitigated issues related to convergence and stagnation.  \n",
        "   - Incorporating additional performance metrics (e.g., population diversity indices) earlier in the project could have provided better insight into algorithm behavior.  \n",
        "\n",
        "3. **Key Learning Outcomes**:  \n",
        "   - The interplay between diversity and convergence is crucial in genetic algorithms. Maintaining a balance ensures robust exploration without sacrificing solution quality.  \n",
        "   - Randomness, when applied strategically, can significantly enhance the performance of heuristic algorithms.  \n",
        "   - Modular and scalable design ensures the solution can adapt to variations in problem complexity with minimal changes.  \n",
        "\n",
        "4. **Insights and Observations**:  \n",
        "   The project reinforced the importance of iterative development. Each adjustment, particularly to the mutation and crossover mechanisms, yielded measurable improvements. Moreover, focusing on randomness as a tool for diversity opened avenues for further experimentation, such as employing adaptive probabilities for genetic operations based on population metrics.  \n",
        "\n",
        "This project not only provided practical insights into genetic algorithms but also offered a deeper understanding of how randomness and diversity are critical to solving complex optimization problems."
      ],
      "metadata": {
        "id": "ZqwUncaJK60T"
      }
    }
  ]
}